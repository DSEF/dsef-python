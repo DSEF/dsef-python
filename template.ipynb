{
 "cells": [
  {
   "cell_type": "markdown",
   "metadata": {
    "collapsed": true
   },
   "source": [
    "## Imports / Definitions"
   ]
  },
  {
   "cell_type": "code",
   "execution_count": null,
   "metadata": {
    "collapsed": true
   },
   "outputs": [],
   "source": [
    "import yaml\n",
    "import os\n",
    "from importlib import reload\n",
    "from altair import *\n",
    "from altair_widgets import interact_with\n",
    "import pandas as pd\n",
    "\n",
    "%load_ext yamlmagic"
   ]
  },
  {
   "cell_type": "code",
   "execution_count": null,
   "metadata": {
    "collapsed": true
   },
   "outputs": [],
   "source": [
    "# Define Enumerations here\n",
    "'''\n",
    "class ClientType:\n",
    "    CLOSED = 0\n",
    "    OPEN = 1\n",
    "    \n",
    "class Benchmark:\n",
    "    EXAMPLE = 'example'\n",
    "'''"
   ]
  },
  {
   "cell_type": "markdown",
   "metadata": {},
   "source": [
    "## Experimental Settings"
   ]
  },
  {
   "cell_type": "code",
   "execution_count": null,
   "metadata": {
    "collapsed": true
   },
   "outputs": [],
   "source": [
    "username = \"\" # Username of user on server\n",
    "exp_name = \"\" # Name of Experiment on TestBed\n",
    "proj_name = \"\" # Name of Project on TestBed\n",
    "default_node = \"\" # Default node to run the experiment from\n",
    "ds = \"\"\n",
    "host_ip = \"\"\n",
    "host_servers_ip = \"\"\n",
    "default_ip = \"{}.{}.{}.{}\".format(default_node, exp_name, proj_name, host_servers_ip)\n",
    "\n",
    "# change into the correct directory\n",
    "proj_path = \"~/DSEF/{}\".format(ds)\n",
    "%cd '$proj_path'"
   ]
  },
  {
   "cell_type": "code",
   "execution_count": null,
   "metadata": {
    "collapsed": true
   },
   "outputs": [],
   "source": [
    "%%yaml conf\n",
    "'''\n",
    "duration: 10              # duration of each test\n",
    "name: dsef              # name of the experiment\n",
    "clients: [1, 2, 4, 8] # clients to run tests with\n",
    "servers: [2]              # number of servers to run tests with\n",
    "benchs: [Benchmark.EXAMPLE]   # benchmark to run\n",
    "num_cores: 2              # number of cores each server has\n",
    "data_centers: []\n",
    "client: ClientType.CLOSED # is client open or closed\n",
    "'''"
   ]
  },
  {
   "cell_type": "code",
   "execution_count": null,
   "metadata": {
    "collapsed": true
   },
   "outputs": [],
   "source": [
    "import dsef\n",
    "from dsef import Experiment, util\n",
    "reload(dsef)\n",
    "exp = Experiment(default_ip, username, ds, conf)"
   ]
  },
  {
   "cell_type": "markdown",
   "metadata": {},
   "source": [
    "## Hosts"
   ]
  },
  {
   "cell_type": "code",
   "execution_count": null,
   "metadata": {
    "collapsed": true
   },
   "outputs": [],
   "source": [
    "%%yaml hosts\n",
    "host:\n",
    "  node-1: node-1\n",
    "  node-2: node-2\n",
    "  node-3: node-3\n",
    "  node-4: node-4\n",
    "  node-5: node-5"
   ]
  },
  {
   "cell_type": "code",
   "execution_count": null,
   "metadata": {
    "collapsed": true
   },
   "outputs": [],
   "source": [
    "# write hosts to file\n",
    "with open('hosts.yml', 'w') as f:\n",
    "    yaml.dump(hosts, f, default_flow_style=False)"
   ]
  },
  {
   "cell_type": "markdown",
   "metadata": {
    "collapsed": true
   },
   "source": [
    "# Experiment\n",
    "Launch Instances of the Distributed System\n",
    "    \n",
    "Setup Benchmark on Clients\n",
    "    \n",
    "Start the Experiment\n",
    "    \n",
    "Kill all Instances of the Distributed System "
   ]
  },
  {
   "cell_type": "markdown",
   "metadata": {},
   "source": [
    "## Loop"
   ]
  },
  {
   "cell_type": "code",
   "execution_count": null,
   "metadata": {
    "collapsed": true,
    "scrolled": false
   },
   "outputs": [],
   "source": [
    "files = ['run.py']\n",
    "exp.transfer_files(files)\n",
    "res = exp.run()"
   ]
  },
  {
   "cell_type": "code",
   "execution_count": null,
   "metadata": {
    "collapsed": true
   },
   "outputs": [],
   "source": [
    "df = pd.DataFrame(data)\n",
    "df"
   ]
  },
  {
   "cell_type": "code",
   "execution_count": null,
   "metadata": {
    "collapsed": true
   },
   "outputs": [],
   "source": [
    "interact_with(df.transpose())"
   ]
  }
 ],
 "metadata": {
  "kernelspec": {
   "display_name": "Python 3",
   "language": "python",
   "name": "python3"
  },
  "language_info": {
   "codemirror_mode": {
    "name": "ipython",
    "version": 3
   },
   "file_extension": ".py",
   "mimetype": "text/x-python",
   "name": "python",
   "nbconvert_exporter": "python",
   "pygments_lexer": "ipython3",
   "version": "3.4.3"
  }
 },
 "nbformat": 4,
 "nbformat_minor": 2
}
