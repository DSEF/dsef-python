{
 "cells": [
  {
   "cell_type": "markdown",
   "metadata": {},
   "source": [
    "## Experimental Settings"
   ]
  },
  {
   "cell_type": "code",
   "execution_count": 1,
   "metadata": {},
   "outputs": [
    {
     "name": "stdout",
     "output_type": "stream",
     "text": [
      "/home/sgt43/DSEF\n"
     ]
    }
   ],
   "source": [
    "username = \"\" # Username of user on server\n",
    "exp_name = \"\" # Name of Experiment on TestBed\n",
    "proj_name = \"\" # Name of Project on TestBed\n",
    "default_node = \"\" # Default node to run the experiment from\n",
    "ds = \"\"\n",
    "host_ip = \"\"\n",
    "host_servers_ip = \"\"\n",
    "default_ip = \"{}.{}.{}.{}\".format(default_node, exp_name, proj_name, host_servers_ip)\n",
    "\n",
    "# change into the correct directory\n",
    "proj_path = \"~/DSEF/{}\".format(ds)\n",
    "%cd '$proj_path'"
   ]
  },
  {
   "cell_type": "markdown",
   "metadata": {
    "collapsed": true
   },
   "source": [
    "## Imports / Definitions"
   ]
  },
  {
   "cell_type": "code",
   "execution_count": null,
   "metadata": {
    "collapsed": true
   },
   "outputs": [],
   "source": [
    "import yaml\n",
    "import os\n",
    "from importlib import reload\n",
    "from altair import *\n",
    "from altair_widgets import interact_with\n",
    "import pandas as pd\n",
    "import pydsef\n",
    "from pydsef import Experiment, DSEFLoader, util\n",
    "\n",
    "%load_ext yamlmagic\n",
    "#TODO: do this in Jupyter config\n",
    "\n",
    "pd.options.display.max_columns = 999\n",
    "pd.options.display.max_rows = 999"
   ]
  },
  {
   "cell_type": "code",
   "execution_count": null,
   "metadata": {
    "collapsed": true
   },
   "outputs": [],
   "source": [
    "%%yaml conf --loader DSEFLoader\n",
    "client_types:\n",
    "    closed: &closed client_closed\n",
    "    open: &open client_open\n",
    "benchmark:\n",
    "    rw: &rw rw_benchmark\n",
    "    tpca: &tpca tpca\n",
    "    \n",
    "experiment:\n",
    "    duration: 10\n",
    "    name: dsef\n",
    "    clients: !include [1, 2, 4]\n",
    "    server_timeout: 30\n",
    "    servers: !include [2]\n",
    "    benchs: !include [*tpcc]\n",
    "    num_cores: 2\n",
    "    client_type: *closed\n",
    "    \n",
    "host:\n",
    "    node-1: node-1\n",
    "    node-2: node-2\n",
    "    node-3: node-3\n",
    "    node-4: node-4\n",
    "    node-5: node-5"
   ]
  },
  {
   "cell_type": "code",
   "execution_count": null,
   "metadata": {
    "collapsed": true
   },
   "outputs": [],
   "source": [
    "exp = Experiment(default_ip, username, ds, conf)\n",
    "pd.DataFrame(exp.experiment_list)"
   ]
  },
  {
   "cell_type": "markdown",
   "metadata": {
    "collapsed": true
   },
   "source": [
    "# Experiment\n",
    "Launch Instances of the Distributed System\n",
    "    \n",
    "Setup Benchmark on Clients\n",
    "    \n",
    "Start the Experiment\n",
    "    \n",
    "Kill all Instances of the Distributed System "
   ]
  },
  {
   "cell_type": "markdown",
   "metadata": {},
   "source": [
    "## Loop"
   ]
  },
  {
   "cell_type": "code",
   "execution_count": null,
   "metadata": {
    "collapsed": true,
    "scrolled": false
   },
   "outputs": [],
   "source": [
    "exp.set_executable('run.py')\n",
    "# exp.push_files(files)\n",
    "exp.set_archive('log')\n",
    "\n",
    "# exp.show_log = False\n",
    "# exp.save_log = True\n",
    "res = exp.run()"
   ]
  },
  {
   "cell_type": "code",
   "execution_count": null,
   "metadata": {
    "collapsed": true
   },
   "outputs": [],
   "source": [
    "df = pd.DataFrame(data)\n",
    "df"
   ]
  },
  {
   "cell_type": "code",
   "execution_count": null,
   "metadata": {
    "collapsed": true
   },
   "outputs": [],
   "source": [
    "interact_with(df.transpose())"
   ]
  }
 ],
 "metadata": {
  "kernelspec": {
   "display_name": "Python 3",
   "language": "python",
   "name": "python3"
  },
  "language_info": {
   "codemirror_mode": {
    "name": "ipython",
    "version": 3
   },
   "file_extension": ".py",
   "mimetype": "text/x-python",
   "name": "python",
   "nbconvert_exporter": "python",
   "pygments_lexer": "ipython3",
   "version": "3.4.3"
  }
 },
 "nbformat": 4,
 "nbformat_minor": 2
}
